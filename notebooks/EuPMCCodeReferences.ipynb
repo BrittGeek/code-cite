{
 "cells": [
  {
   "cell_type": "markdown",
   "metadata": {},
   "source": [
    "# Get Code References from papers"
   ]
  },
  {
   "cell_type": "markdown",
   "metadata": {},
   "source": [
    "This notebook:\n",
    "\n",
    " * Uses getpapers externally to download fulltext of all papers in EuPMC which contain github URLs\n",
    " * Textmines each paper fulltext and extract occurences of GitHub URLs\n",
    " * Outputs a data structure of the form: paper_DOI {{github_url: \"http://github.com/blah/blah\"}...}"
   ]
  },
  {
   "cell_type": "code",
   "execution_count": 21,
   "metadata": {},
   "outputs": [],
   "source": [
    "import json"
   ]
  },
  {
   "cell_type": "markdown",
   "metadata": {},
   "source": [
    "## Use getpapers to download fulltext of papers"
   ]
  },
  {
   "cell_type": "markdown",
   "metadata": {},
   "source": [
    "We currently do this outside of the notebook, and assume that the files are available locally.\n",
    "\n",
    "The command we are using is:\n",
    "\n",
    ">getpapers --query 'github' -x --limit 100 -o data\n",
    "\n",
    "which queries EuPMC for all papers containing the term 'github' and returns the full text of the first 100 papers matching this into the directory 'data'"
   ]
  },
  {
   "cell_type": "markdown",
   "metadata": {},
   "source": [
    "## Textmine each paper"
   ]
  },
  {
   "cell_type": "markdown",
   "metadata": {},
   "source": [
    "### File locations"
   ]
  },
  {
   "cell_type": "code",
   "execution_count": 6,
   "metadata": {},
   "outputs": [],
   "source": [
    "# Directory containing the data\n",
    "data_dir = '../data/'\n",
    "\n",
    "# File containing the list of matching papers\n",
    "matching_papers = data_dir + 'eupmc_fulltext_html_urls.txt'\n"
   ]
  },
  {
   "cell_type": "code",
   "execution_count": 19,
   "metadata": {},
   "outputs": [],
   "source": [
    "# Get the list of subdirectories\n",
    "\n",
    "papers = []\n",
    "\n",
    "# For each line in matching_papers, strip the start of the line (http://europepmc.org/articles/)\n",
    "\n",
    "with open(matching_papers, 'r') as f:\n",
    "  for line in f:\n",
    "     terms = line.split(\"/\")\n",
    "     papers.append(terms[-1].rstrip())\n"
   ]
  },
  {
   "cell_type": "code",
   "execution_count": 20,
   "metadata": {},
   "outputs": [
    {
     "name": "stdout",
     "output_type": "stream",
     "text": [
      "['PMC5802054', 'PMC5838108', 'PMC5833151', 'PMC5634325', 'PMC5832410', 'PMC5764482', 'PMC5819480', 'PMC5627421', 'PMC5753347', 'PMC5736641', 'PMC5707441', 'PMC5816961', 'PMC5796701', 'PMC5736239', 'PMC5667849', 'PMC5801530', 'PMC5768271', 'PMC5782805', 'PMC5838881', 'PMC5809091', 'PMC5775343', 'PMC5700758', 'PMC5804317', 'PMC5790920', 'PMC5815186', 'PMC5744633', 'PMC5801138', 'PMC5801807', 'PMC5746494', 'PMC5668921', 'PMC5754048', 'PMC5657068', 'PMC5828247', 'PMC5472659', 'PMC5794939', 'PMC5778627', 'PMC5655815', 'PMC5778497', 'PMC5813898', 'PMC5517642', 'PMC5508660', 'PMC5827353', 'PMC5807796', 'PMC5691210', 'PMC5654261', 'PMC5787250', 'PMC5697234', 'PMC5449644', 'PMC5628028', 'PMC5607581', 'PMC5713628', 'PMC5728484', 'PMC5634323', 'PMC5588604', 'PMC5814748', 'PMC5768164', 'PMC5706697', 'PMC5610716', 'PMC5712467', 'PMC5717846', 'PMC5817627', 'PMC5571441', 'PMC5751784', 'PMC5391935', 'PMC5756455', 'PMC5714127', 'PMC5552001', 'PMC5753187', 'PMC5821087', 'PMC5596339', 'PMC5530318', 'PMC5348774', 'PMC5821079', 'PMC5713368', 'PMC5817932', 'PMC5830647', 'PMC5410600', 'PMC5740890', 'PMC5437615', 'PMC5828423', 'PMC5333608', 'PMC5711661', 'PMC5773732', 'PMC5676193', 'PMC5547236', 'PMC5662523', 'PMC5584330', 'PMC5805351', 'PMC5754500', 'PMC5757220', 'PMC5834625', 'PMC5830078', 'PMC5426587', 'PMC5683383', 'PMC5748834', 'PMC5780852', 'PMC5805875', 'PMC4975729', 'PMC5575496', 'PMC5408791', '']\n"
     ]
    }
   ],
   "source": [
    "print(papers)"
   ]
  },
  {
   "cell_type": "code",
   "execution_count": 26,
   "metadata": {},
   "outputs": [
    {
     "name": "stdout",
     "output_type": "stream",
     "text": [
      "../data/PMC5802054/eupmc_result.json\n",
      "['10.1186/s13059-017-1382-0']\n",
      "../data/PMC5838108/eupmc_result.json\n",
      "['10.1038/s41467-018-03297-7']\n",
      "../data/PMC5833151/eupmc_result.json\n",
      "['10.1186/s12859-018-2074-9']\n",
      "../data/PMC5634325/eupmc_result.json\n",
      "['10.1038/sdata.2017.151']\n",
      "../data/PMC5832410/eupmc_result.json\n",
      "['10.7554/elife.32822']\n",
      "../data/PMC5764482/eupmc_result.json\n",
      "['10.1371/journal.pone.0191298']\n",
      "../data/PMC5819480/eupmc_result.json\n",
      "['10.1038/sdata.2018.11']\n",
      "../data/PMC5627421/eupmc_result.json\n",
      "['10.1186/s13059-017-1319-7']\n",
      "../data/PMC5753347/eupmc_result.json\n",
      "['10.1093/nar/gkx1152']\n",
      "../data/PMC5736641/eupmc_result.json\n",
      "['10.1038/s41598-017-18257-2']\n",
      "../data/PMC5707441/eupmc_result.json\n",
      "['10.1002/pmic.201700244']\n",
      "../data/PMC5816961/eupmc_result.json\n",
      "['10.7717/peerj.4312']\n",
      "../data/PMC5796701/eupmc_result.json\n",
      "['10.1371/journal.pone.0192520']\n",
      "../data/PMC5736239/eupmc_result.json\n",
      "['10.1371/journal.pone.0189334']\n",
      "../data/PMC5667849/eupmc_result.json\n",
      "['10.1371/journal.pone.0187457']\n",
      "../data/PMC5801530/eupmc_result.json\n",
      "['10.1080/14686996.2017.1401424']\n",
      "../data/PMC5768271/eupmc_result.json\n",
      "['10.1177/1176934317742613']\n",
      "../data/PMC5782805/eupmc_result.json\n",
      "['10.7717/peerj.3893']\n",
      "../data/PMC5838881/eupmc_result.json\n",
      "['10.1186/s12859-018-2085-6']\n",
      "../data/PMC5809091/eupmc_result.json\n",
      "['10.1371/journal.pone.0192858']\n",
      "../data/PMC5775343/eupmc_result.json\n",
      "['10.1038/s41598-018-19635-0']\n",
      "../data/PMC5700758/eupmc_result.json\n",
      "['10.7717/peerj.4013']\n",
      "../data/PMC5804317/eupmc_result.json\n",
      "['10.7717/peerj.4339']\n",
      "../data/PMC5790920/eupmc_result.json\n",
      "['10.1128/mbio.02345-17']\n",
      "../data/PMC5815186/eupmc_result.json\n",
      "['10.1186/s13015-018-0123-6']\n",
      "../data/PMC5744633/eupmc_result.json\n",
      "['10.1038/sdata.2017.184']\n",
      "../data/PMC5801138/eupmc_result.json\n",
      "['10.1186/s13321-018-0258-y']\n",
      "../data/PMC5801807/eupmc_result.json\n",
      "['10.1186/s13059-018-1387-3']\n",
      "../data/PMC5746494/eupmc_result.json\n",
      "['10.1186/s40169-017-0177-y']\n",
      "../data/PMC5668921/eupmc_result.json\n",
      "['10.12688/f1000research.12516.1']\n",
      "../data/PMC5754048/eupmc_result.json\n",
      "['10.1371/journal.pcbi.1005871']\n",
      "../data/PMC5657068/eupmc_result.json\n",
      "['10.1186/s12859-017-1873-8']\n",
      "../data/PMC5828247/eupmc_result.json\n",
      "['10.1186/s12859-018-2082-9']\n",
      "../data/PMC5472659/eupmc_result.json\n",
      "['10.3389/fphar.2017.00377']\n",
      "../data/PMC5794939/eupmc_result.json\n",
      "['10.1128/genomea.01479-17']\n",
      "../data/PMC5778627/eupmc_result.json\n",
      "['10.1186/s12859-018-2024-6']\n",
      "../data/PMC5655815/eupmc_result.json\n",
      "['10.1186/s12885-017-3689-3']\n",
      "../data/PMC5778497/eupmc_result.json\n",
      "['10.1093/nar/gkx1053']\n",
      "../data/PMC5813898/eupmc_result.json\n",
      "['10.1371/journal.pcbi.1005740']\n",
      "../data/PMC5517642/eupmc_result.json\n",
      "['10.1038/s41598-017-06174-3']\n",
      "../data/PMC5508660/eupmc_result.json\n",
      "['10.1186/s13104-017-2616-7']\n",
      "../data/PMC5827353/eupmc_result.json\n",
      "['10.1093/gigascience/gix131']\n",
      "../data/PMC5807796/eupmc_result.json\n",
      "['10.1186/s12859-018-2051-3']\n",
      "../data/PMC5691210/eupmc_result.json\n",
      "['10.1038/s41598-017-15885-6']\n",
      "../data/PMC5654261/eupmc_result.json\n",
      "['10.1371/journal.pcbi.1005642']\n",
      "../data/PMC5787250/eupmc_result.json\n",
      "['10.1186/s12977-018-0401-x']\n",
      "../data/PMC5697234/eupmc_result.json\n",
      "['10.1186/s12859-017-1939-7']\n",
      "../data/PMC5449644/eupmc_result.json\n",
      "['10.1093/gigascience/gix025']\n",
      "../data/PMC5628028/eupmc_result.json\n",
      "['10.3732/apps.1700051']\n",
      "../data/PMC5607581/eupmc_result.json\n",
      "['10.1186/s12859-017-1837-z']\n",
      "../data/PMC5713628/eupmc_result.json\n",
      "['10.7717/peerj.4088']\n",
      "../data/PMC5728484/eupmc_result.json\n",
      "['10.1371/journal.pone.0188244']\n",
      "../data/PMC5634323/eupmc_result.json\n",
      "['10.1038/sdata.2017.149']\n",
      "../data/PMC5588604/eupmc_result.json\n",
      "['10.1186/s13104-017-2788-1']\n",
      "../data/PMC5814748/eupmc_result.json\n",
      "['10.12688/f1000research.13511.2']\n",
      "../data/PMC5768164/eupmc_result.json\n",
      "['10.7717/peerj.4262']\n",
      "../data/PMC5706697/eupmc_result.json\n",
      "['10.1371/journal.pone.0188511']\n",
      "../data/PMC5610716/eupmc_result.json\n",
      "['10.1099/mgen.0.000124']\n",
      "../data/PMC5712467/eupmc_result.json\n",
      "['10.7717/peerj.3948']\n",
      "../data/PMC5717846/eupmc_result.json\n",
      "['10.1186/s12862-017-1071-3']\n",
      "../data/PMC5817627/eupmc_result.json\n",
      "['10.1186/s12859-017-1909-0']\n",
      "../data/PMC5571441/eupmc_result.json\n",
      "['10.1016/j.cels.2017.07.007']\n",
      "../data/PMC5751784/eupmc_result.json\n",
      "['10.1186/s12859-017-1974-4']\n",
      "../data/PMC5391935/eupmc_result.json\n",
      "['10.1371/journal.pone.0175480']\n",
      "../data/PMC5756455/eupmc_result.json\n",
      "['10.7717/peerj.4210']\n",
      "../data/PMC5714127/eupmc_result.json\n",
      "['10.1093/gigascience/gix100']\n",
      "../data/PMC5552001/eupmc_result.json\n",
      "['10.1523/eneuro.0233-17.2017']\n",
      "../data/PMC5753187/eupmc_result.json\n",
      "['10.1093/nar/gkx1132']\n",
      "../data/PMC5821087/eupmc_result.json\n",
      "['10.1128/mbio.02275-17']\n",
      "../data/PMC5596339/eupmc_result.json\n",
      "['10.12688/f1000research.12332.1']\n",
      "../data/PMC5530318/eupmc_result.json\n",
      "['10.1093/gigascience/gix022']\n",
      "../data/PMC5348774/eupmc_result.json\n",
      "['10.1186/s12859-017-1581-4']\n",
      "../data/PMC5821079/eupmc_result.json\n",
      "['10.1128/mbio.01650-17']\n",
      "../data/PMC5713368/eupmc_result.json\n",
      "['10.3390/ijms18112400']\n",
      "../data/PMC5817932/eupmc_result.json\n",
      "['10.1126/sciadv.1700578']\n",
      "../data/PMC5830647/eupmc_result.json\n",
      "['10.1038/s41598-018-22181-4']\n",
      "../data/PMC5410600/eupmc_result.json\n",
      "['10.3389/fninf.2017.00032']\n",
      "../data/PMC5740890/eupmc_result.json\n",
      "['10.1186/s12918-017-0515-0']\n",
      "../data/PMC5437615/eupmc_result.json\n",
      "['10.1186/s12859-017-1678-9']\n",
      "../data/PMC5828423/eupmc_result.json\n",
      "['10.1186/s40168-018-0420-9']\n",
      "../data/PMC5333608/eupmc_result.json\n",
      "['10.12688/f1000research.10137.1']\n",
      "../data/PMC5711661/eupmc_result.json\n",
      "['10.1016/j.csbj.2017.10.002']\n",
      "../data/PMC5773732/eupmc_result.json\n",
      "['10.1128/genomea.01472-17']\n",
      "../data/PMC5676193/eupmc_result.json\n",
      "['10.12688/f1000research.12874.1']\n",
      "../data/PMC5547236/eupmc_result.json\n",
      "['10.1016/j.dib.2017.07.049']\n",
      "../data/PMC5662523/eupmc_result.json\n",
      "['10.1186/s13321-017-0241-z']\n",
      "../data/PMC5584330/eupmc_result.json\n",
      "['10.1186/s13326-017-0136-y']\n",
      "../data/PMC5805351/eupmc_result.json\n",
      "['10.1371/journal.pcbi.1005968']\n",
      "../data/PMC5754500/eupmc_result.json\n",
      "['10.1128/genomea.01424-17']\n",
      "../data/PMC5757220/eupmc_result.json\n",
      "['10.1021/acs.analchem.7b03544']\n",
      "../data/PMC5834625/eupmc_result.json\n",
      "['10.1038/s41467-018-03311-y']\n",
      "../data/PMC5830078/eupmc_result.json\n",
      "['10.1186/s12859-018-2057-x']\n",
      "../data/PMC5426587/eupmc_result.json\n",
      "['10.1371/journal.pone.0176334']\n",
      "../data/PMC5683383/eupmc_result.json\n",
      "['10.1186/s13326-017-0160-y']\n",
      "../data/PMC5748834/eupmc_result.json\n",
      "['10.2174/1874104501711010212']\n",
      "../data/PMC5780852/eupmc_result.json\n",
      "['10.1186/s12864-017-4327-9']\n",
      "../data/PMC5805875/eupmc_result.json\n",
      "['10.1128/genomea.00029-18']\n",
      "../data/PMC4975729/eupmc_result.json\n",
      "['10.1186/s40064-016-2897-7']\n",
      "../data/PMC5575496/eupmc_result.json\n",
      "['10.1002/1873-3468.12684']\n",
      "../data/PMC5408791/eupmc_result.json\n",
      "['10.1093/bioinformatics/btw838']\n",
      "../data//eupmc_result.json\n"
     ]
    },
    {
     "ename": "FileNotFoundError",
     "evalue": "[Errno 2] No such file or directory: '../data//eupmc_result.json'",
     "output_type": "error",
     "traceback": [
      "\u001b[0;31m---------------------------------------------------------------------------\u001b[0m",
      "\u001b[0;31mFileNotFoundError\u001b[0m                         Traceback (most recent call last)",
      "\u001b[0;32m<ipython-input-26-7b7a25d4cc1a>\u001b[0m in \u001b[0;36m<module>\u001b[0;34m()\u001b[0m\n\u001b[1;32m      9\u001b[0m \u001b[0;34m\u001b[0m\u001b[0m\n\u001b[1;32m     10\u001b[0m     \u001b[0;32mif\u001b[0m \u001b[0mfilename\u001b[0m\u001b[0;34m:\u001b[0m\u001b[0;34m\u001b[0m\u001b[0m\n\u001b[0;32m---> 11\u001b[0;31m         \u001b[0;32mwith\u001b[0m \u001b[0mopen\u001b[0m\u001b[0;34m(\u001b[0m\u001b[0mfilename\u001b[0m\u001b[0;34m,\u001b[0m \u001b[0;34m'r'\u001b[0m\u001b[0;34m)\u001b[0m \u001b[0;32mas\u001b[0m \u001b[0mf\u001b[0m\u001b[0;34m:\u001b[0m\u001b[0;34m\u001b[0m\u001b[0m\n\u001b[0m\u001b[1;32m     12\u001b[0m             \u001b[0mpaper_json\u001b[0m \u001b[0;34m=\u001b[0m \u001b[0mjson\u001b[0m\u001b[0;34m.\u001b[0m\u001b[0mload\u001b[0m\u001b[0;34m(\u001b[0m\u001b[0mf\u001b[0m\u001b[0;34m)\u001b[0m\u001b[0;34m\u001b[0m\u001b[0m\n\u001b[1;32m     13\u001b[0m         \u001b[0;31m# Get the DOI\u001b[0m\u001b[0;34m\u001b[0m\u001b[0;34m\u001b[0m\u001b[0m\n",
      "\u001b[0;31mFileNotFoundError\u001b[0m: [Errno 2] No such file or directory: '../data//eupmc_result.json'"
     ]
    }
   ],
   "source": [
    "# For each paper\n",
    "\n",
    "for paper_dir in papers:\n",
    "\n",
    "    # Read in the JSON file and get the DOI\n",
    "    \n",
    "    filename = data_dir + paper_dir + '/' + 'eupmc_result.json'\n",
    "    print(filename)\n",
    "    \n",
    "    if filename:\n",
    "        with open(filename, 'r') as f:\n",
    "            paper_json = json.load(f)\n",
    "        # Get the DOI\n",
    "            paper_doi = paper_json['doi']\n",
    "            print(paper_doi)\n",
    "       \n",
    "    \n",
    "    # Read in the XML full text and mine for the github URLs\n",
    "\n",
    " "
   ]
  },
  {
   "cell_type": "markdown",
   "metadata": {},
   "source": [
    "## Output data structure"
   ]
  },
  {
   "cell_type": "code",
   "execution_count": null,
   "metadata": {},
   "outputs": [],
   "source": []
  },
  {
   "cell_type": "code",
   "execution_count": null,
   "metadata": {},
   "outputs": [],
   "source": []
  }
 ],
 "metadata": {
  "kernelspec": {
   "display_name": "Python 3",
   "language": "python",
   "name": "python3"
  },
  "language_info": {
   "codemirror_mode": {
    "name": "ipython",
    "version": 3
   },
   "file_extension": ".py",
   "mimetype": "text/x-python",
   "name": "python",
   "nbconvert_exporter": "python",
   "pygments_lexer": "ipython3",
   "version": "3.5.2"
  }
 },
 "nbformat": 4,
 "nbformat_minor": 2
}
