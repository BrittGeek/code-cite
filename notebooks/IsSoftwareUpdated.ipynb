{
 "cells": [
  {
   "cell_type": "markdown",
   "metadata": {},
   "source": [
    "# Is Software Updated?\n",
    "\n",
    "This notebook looks at references to GitHub URLs in papers available in the OA corpus from EuroPMC,\n",
    "and identifies:\n",
    "\n",
    "  * How many times the GitHub repositories have been updated since paper referencing them was released\n",
    "  \n",
    "Note that at present, we are not distinguishing between URLs referencing software *created* by the paper authors,\n",
    "versus *used* by the authors, nor which software was created as a result of the work in the paper."
   ]
  },
  {
   "cell_type": "code",
   "execution_count": 76,
   "metadata": {},
   "outputs": [],
   "source": [
    "import pandas\n",
    "import json\n",
    "from datetime import datetime, timedelta\n",
    "from collections import defaultdict\n",
    "from github import Github\n",
    "import numpy as np\n",
    "import matplotlib.pyplot as plt\n",
    "\n",
    "import process_eupmc\n",
    "import process_urls"
   ]
  },
  {
   "cell_type": "markdown",
   "metadata": {},
   "source": [
    "## File locations"
   ]
  },
  {
   "cell_type": "code",
   "execution_count": 2,
   "metadata": {},
   "outputs": [],
   "source": [
    "# Directory containing the data\n",
    "data_dir = '../data'\n",
    "\n",
    "# File containing the list of matching papers\n",
    "matching_papers = data_dir + '/' + 'eupmc_fulltext_html_urls.txt'\n",
    "\n",
    "# File for the output\n",
    "output_jsonfile = data_dir + '/' + 'dict_of_papers.json'\n",
    "\n",
    "# Github Token\n",
    "gh_token = '../secrets/github_token'"
   ]
  },
  {
   "cell_type": "code",
   "execution_count": 35,
   "metadata": {},
   "outputs": [],
   "source": [
    "with open(gh_token, 'r') as f:\n",
    "    github_token = f.read().rstrip()"
   ]
  },
  {
   "cell_type": "markdown",
   "metadata": {},
   "source": [
    "## Use getpapers to download fulltext of papers"
   ]
  },
  {
   "cell_type": "markdown",
   "metadata": {},
   "source": [
    "We currently do this outside of the notebook, and assume that the files are available locally.\n",
    "\n",
    "The command we are using is:\n",
    "\n",
    ">getpapers --query 'github' -x --limit 100 -o data\n",
    "\n",
    "which queries EuPMC for all papers containing the term 'github' and returns the full text of the first 100 papers matching this into the directory 'data'"
   ]
  },
  {
   "cell_type": "markdown",
   "metadata": {},
   "source": [
    "## Textmine each paper"
   ]
  },
  {
   "cell_type": "code",
   "execution_count": 3,
   "metadata": {},
   "outputs": [],
   "source": [
    "# Get the list of subdirectories dumped by ContentMine\n",
    "paper_ids = process_eupmc.get_pmcids(matching_papers)"
   ]
  },
  {
   "cell_type": "code",
   "execution_count": 4,
   "metadata": {},
   "outputs": [],
   "source": [
    "# Process the papers and extract all the references to GitHub and Zenodo urls\n",
    "papers_info = process_eupmc.process_papers(paper_ids, data_dir)"
   ]
  },
  {
   "cell_type": "markdown",
   "metadata": {},
   "source": [
    "## Analyse GitHub repos to see frequency of commits"
   ]
  },
  {
   "cell_type": "code",
   "execution_count": 74,
   "metadata": {},
   "outputs": [
    {
     "name": "stdout",
     "output_type": "stream",
     "text": [
      "Processing:  theislab/Scanpy\n",
      "Number of commits since publication:  176\n",
      "Processing:  theislab/anndata\n",
      "Number of commits since publication:  57\n",
      "Processing:  theislab/scanpy_usage\n",
      "Number of commits since publication:  25\n",
      "Processing:  linnarsson-lab/loompy\n",
      "Number of commits since publication:  34\n",
      "Processing:  PMBio/scLVM\n",
      "Number of commits since publication:  0\n",
      "Processing:  YosefLab/FastProject\n",
      "Number of commits since publication:  0\n",
      "Processing:  AllonKleinLab/SPRING\n",
      "Number of commits since publication:  5\n",
      "Processing:  dimenwarper/scimitar\n",
      "Number of commits since publication:  0\n",
      "Processing:  jacoblevine/PhenoGraph\n",
      "Number of commits since publication:  0\n",
      "Processing:  asncd/MIMOSCA\n",
      "Number of commits since publication:  0\n",
      "Processing:  vals/umis\n",
      "Number of commits since publication:  0\n",
      "Processing:  GGiecold/ECLAIR\n",
      "Number of commits since publication:  0\n",
      "Processing:  yeolab/flotilla\n",
      "Number of commits since publication:  0\n",
      "Processing:  theislab/scanpy\n",
      "Number of commits since publication:  176\n",
      "Processing:  DmitryUlyanov/Multicore-TSNE\n",
      "Number of commits since publication:  1\n",
      "Processing:  SheffieldML/GPy\n",
      "Number of commits since publication:  48\n",
      "Processing:  YeatmanLab/AFQ-Browser_data\n",
      "Number of commits since publication:  0\n",
      "Processing:  YeatmanLab/AFQ-Browser\n",
      "Number of commits since publication:  0\n",
      "Processing:  yeatmanlab/AFQ-Browser_data\n",
      "Number of commits since publication:  0\n",
      "Processing:  yeatmanlab/AFQBrowser-demo\n",
      "Number of commits since publication:  0\n",
      "Processing:  yeatmanlab/AFQ-Browser-MSexample\n",
      "Number of commits since publication:  0\n",
      "Processing:  yeatmanlab/Sarica_2017\n",
      "Number of commits since publication:  0\n",
      "Processing:  mrdoob/three.js\n",
      "Number of commits since publication:  334\n",
      "Processing:  bioperl/p5-bpwrapper\n",
      "Number of commits since publication:  1\n",
      "Processing:  tlawrence3/FAST\n",
      "Number of commits since publication:  0\n",
      "Processing:  MaayanLab/clustergrammer\n",
      "Number of commits since publication:  12\n",
      "Processing:  MaayanLab/clustergrammer-docs\n",
      "Number of commits since publication:  6\n",
      "Processing:  MaayanLab/clustergrammer-py\n",
      "Number of commits since publication:  0\n",
      "Processing:  jupyter-widgets/widget-cookiecutter\n",
      "Number of commits since publication:  4\n",
      "Processing:  MaayanLab/clustergrammer-widget\n",
      "Number of commits since publication:  5\n",
      "Processing:  jupyter-widgets/ipywidgets\n",
      "Number of commits since publication:  41\n",
      "Processing:  MaayanLab/clustergrammer-web\n",
      "Number of commits since publication:  4\n",
      "Processing:  MaayanLab/CST_Lung_Cancer_Viz\n",
      "Number of commits since publication:  0\n",
      "Processing:  MaayanLab/Cytof_Plasma_PMA\n",
      "Number of commits since publication:  0\n",
      "Processing:  MaayanLab/CCLE_Clustergrammer\n",
      "Number of commits since publication:  0\n",
      "Processing:  greenelab/scihub\n",
      "Number of commits since publication:  1\n",
      "Processing:  greenelab/library-access\n",
      "Number of commits since publication:  2\n",
      "Processing:  greenelab/scihub-manuscript\n",
      "Number of commits since publication:  0\n",
      "Processing:  greenelab/scihub-browser-data\n",
      "Number of commits since publication:  0\n",
      "Processing:  greenelab/crossref\n",
      "Number of commits since publication:  0\n",
      "Processing:  dhimmel/scopus\n",
      "Number of commits since publication:  0\n",
      "Processing:  greenelab/opencitations\n",
      "Number of commits since publication:  0\n",
      "Processing:  elifesciences-publications/crossref\n",
      "Number of commits since publication:  0\n",
      "Processing:  elifesciences-publications/scihub\n",
      "Number of commits since publication:  0\n",
      "Processing:  elifesciences-publications/scihub-manuscript\n",
      "Number of commits since publication:  0\n",
      "Processing:  elifesciences-publications/scopus\n",
      "Number of commits since publication:  0\n",
      "Processing:  elifesciences-publications/library-access\n",
      "Number of commits since publication:  0\n",
      "Processing:  pandas-dev/pandas\n",
      "Number of commits since publication:  327\n",
      "Processing:  igm-team/orion-public\n",
      "Number of commits since publication:  0\n",
      "Processing:  npnl/ATLAS\n",
      "Number of commits since publication:  0\n",
      "Processing:  BIC-MNI/minc-toolkit\n",
      "Number of commits since publication:  0\n",
      "Processing:  npnl/SRQL\n",
      "Number of commits since publication:  0\n",
      "Processing:  ChimeRScope/ChimeRScope\n",
      "Number of commits since publication:  0\n",
      "Processing:  bioinfo-ut/GenomeTester4\n",
      "Number of commits since publication:  13\n",
      "Processing:  danielnavarrogomez/phy-mer\n",
      "Number of commits since publication:  2\n",
      "Processing:  cbib/MICADo\n",
      "Number of commits since publication:  0\n",
      "Processing:  lh3/minimap\n",
      "Number of commits since publication:  0\n",
      "Processing:  marbl/MHAP\n",
      "Number of commits since publication:  2\n",
      "Processing:  lh3/miniasm\n",
      "Number of commits since publication:  2\n",
      "Processing:  warrenlr/LINKS\n",
      "Number of commits since publication:  11\n",
      "Processing:  luscinius/afcluster\n",
      "Number of commits since publication:  0\n",
      "Processing:  mourisl/Lighter\n",
      "Number of commits since publication:  1\n",
      "Processing:  gmarcais/Quorum\n",
      "Number of commits since publication:  0\n",
      "Processing:  fanhuan/AAF\n",
      "Number of commits since publication:  14\n",
      "Processing:  pdtrang/GSM\n",
      "Number of commits since publication:  0\n",
      "Processing:  marbl/mash\n",
      "Number of commits since publication:  13\n",
      "Processing:  jessieren/VirHostMatcher\n",
      "Number of commits since publication:  2\n",
      "Processing:  ctlab/metafast\n",
      "Number of commits since publication:  0\n",
      "Processing:  seqan/seqan\n",
      "Number of commits since publication:  107\n",
      "Processing:  evolbioinf/andi\n",
      "Number of commits since publication:  25\n",
      "Processing:  younglululu/CAFE\n",
      "Number of commits since publication:  0\n",
      "Processing:  tderrien/FEELnc\n",
      "Number of commits since publication:  9\n",
      "Processing:  WGLab/lncScore\n",
      "Number of commits since publication:  0\n",
      "Processing:  congyingnan/TF-IDF\n",
      "Number of commits since publication:  0\n",
      "Processing:  shaze/wcdest\n",
      "Number of commits since publication:  0\n",
      "Processing:  Huiyang520/DMk-BKmeans\n",
      "Number of commits since publication:  0\n",
      "Processing:  soedinglab/kClust\n",
      "Number of commits since publication:  0\n",
      "Processing:  cyinbox/PPI\n",
      "Number of commits since publication:  0\n",
      "Processing:  aziele/alfpy\n",
      "Number of commits since publication:  2\n",
      "Processing:  Planteome/plant-ontology\n",
      "Number of commits since publication:  13\n",
      "Processing:  Planteome/plant-trait-ontology\n",
      "Number of commits since publication:  93\n",
      "Processing:  Planteome/plant-experimental-conditions-ontology\n",
      "Number of commits since publication:  21\n",
      "Processing:  pato-ontology/pato\n",
      "Number of commits since publication:  12\n",
      "Processing:  Planteome/planteome-ncbi-taxonomy\n",
      "Number of commits since publication:  0\n",
      "Processing:  Planteome/amigo\n",
      "Number of commits since publication:  0\n",
      "Processing:  biolink/biolink-api\n",
      "Number of commits since publication:  20\n",
      "Processing:  Planteome/common-files-for-ref-ontologies\n",
      "Number of commits since publication:  0\n",
      "Processing:  ChrisMaherLab/INTEGRATE-Vis\n",
      "Number of commits since publication:  2\n"
     ]
    }
   ],
   "source": [
    "g = Github(github_token)\n",
    "number_of_updates = defaultdict(int)\n",
    "\n",
    "for p in papers_info:\n",
    "\n",
    "    repos = []\n",
    "    # The following removes references to the main github.com site\n",
    "    # and also treats references to blobs / issues as references to the repo\n",
    "    for gh_url in p.references['github']:\n",
    "        words = gh_url.split('/')\n",
    "        if len(words) > 4: #\n",
    "            reponame = words[3] + '/' + words[4]\n",
    "            if reponame not in repos:\n",
    "                repos.append(reponame)            \n",
    "    \n",
    "    for repo in repos:\n",
    "        print (\"Processing: \", repo)\n",
    "        code = g.get_repo(repo)\n",
    "        # limit to commits since publication date\n",
    "        since = datetime.strptime(p.pub_date, '%Y-%m-%d')\n",
    "        commits = code.get_commits()\n",
    "        num_commits = 0\n",
    "        commit_date = commits[num_commits].commit.author.date\n",
    "        while commit_date > since:\n",
    "            num_commits = num_commits + 1\n",
    "            commit_date = commits[num_commits].commit.author.date\n",
    "        print(\"Number of commits since publication: \", num_commits)\n",
    "        number_of_updates[num_commits] +=1"
   ]
  },
  {
   "cell_type": "markdown",
   "metadata": {},
   "source": [
    "## Plotting the results\n",
    "\n",
    "We use a defaultdict so that we can easily zero entries with no data."
   ]
  },
  {
   "cell_type": "code",
   "execution_count": 87,
   "metadata": {},
   "outputs": [],
   "source": [
    "most_commits = max(number_of_updates, key=int)\n",
    "\n",
    "for i in range(most_commits):\n",
    "    if i not in number_of_updates:\n",
    "        number_of_updates[i] = 0"
   ]
  },
  {
   "cell_type": "code",
   "execution_count": null,
   "metadata": {},
   "outputs": [],
   "source": [
    "plt.bar(range(len(number_of_updates)), list(number_of_updates.values()), align='center')\n",
    "plt.suptitle('Does software referenced in publications get updated?')\n",
    "plt.xlabel('Number of commits since publication date')\n",
    "plt.ylabel('Number of GitHub repositories')"
   ]
  },
  {
   "cell_type": "code",
   "execution_count": 97,
   "metadata": {},
   "outputs": [
    {
     "data": {
      "image/png": "[encoded data removed]",
      "text/plain": [
       "<matplotlib.figure.Figure at 0x1164a5e48>"
      ]
     },
     "metadata": {},
     "output_type": "display_data"
    }
   ],
   "source": [
    "plt.show()"
   ]
  },
  {
   "cell_type": "markdown",
   "metadata": {},
   "source": [
    "## Caveats to this plot\n",
    "\n",
    "1. It does not distinguish between software created by the publication author and software referenced by the author\n",
    "2. It should really be calculating the average number of commits since publication date, not total number of commits"
   ]
  }
 ],
 "metadata": {
  "kernelspec": {
   "display_name": "Python 3",
   "language": "python",
   "name": "python3"
  },
  "language_info": {
   "codemirror_mode": {
    "name": "ipython",
    "version": 3
   },
   "file_extension": ".py",
   "mimetype": "text/x-python",
   "name": "python",
   "nbconvert_exporter": "python",
   "pygments_lexer": "ipython3",
   "version": "3.5.5"
  }
 },
 "nbformat": 4,
 "nbformat_minor": 2
}
