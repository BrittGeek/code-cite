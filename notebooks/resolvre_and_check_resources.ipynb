{
 "cells": [
  {
   "cell_type": "markdown",
   "metadata": {},
   "source": [
    "# Notebook to process output from thecontentmine\n",
    "\n",
    "This notebook illustrates the basic process of processing each resource in each paper and allocates a score."
   ]
  },
  {
   "cell_type": "code",
   "execution_count": 1,
   "metadata": {},
   "outputs": [],
   "source": [
    "import datetime\n",
    "\n",
    "import pandas\n",
    "\n",
    "import process_urls"
   ]
  },
  {
   "cell_type": "code",
   "execution_count": 2,
   "metadata": {},
   "outputs": [],
   "source": [
    "dict_of_papers = {'10.1016/j.cageo.2012.05.031': {'github': ['https://github.com/andreww/MSAT',\n",
    "                                                             'https://github.com/url_that_does_not_resolve.com'],\n",
    "                                                  'zenodo': ['https://zenodo.org/record/1196821#.WrtnltPwYkg']\n",
    "                                                 }\n",
    "                 }"
   ]
  },
  {
   "cell_type": "code",
   "execution_count": 3,
   "metadata": {},
   "outputs": [],
   "source": [
    "def process_github_url(url, doi, verbose=False):\n",
    "    \"\"\"\n",
    "    Given a github URL, calculate a 'code score' and report attributes\n",
    "    \n",
    "    A string, 'url', found in a paper, represented by 'doi', is processed\n",
    "    to establish if the URL resolves, and if it does check for attributes of\n",
    "    the repository that may be an indicator of code quality.\n",
    "    \"\"\"\n",
    "    url_dict = {'doi': doi,\n",
    "                'url': url,\n",
    "                'resourcetype': 'github',\n",
    "                'timestamp': datetime.datetime.now().isoformat(),\n",
    "                'resolves': None,\n",
    "                'score': 0}\n",
    "\n",
    "    if not process_urls.is_url_valid(url):\n",
    "        url_dict['resolves'] = False\n",
    "        if verbose: print(\"URL {} did not resolve\".format(url))\n",
    "        return url_dict\n",
    "    url_dict['resolves'] = True\n",
    "    url_dict['score'] = url_dict['score'] + 1\n",
    "    return url_dict"
   ]
  },
  {
   "cell_type": "code",
   "execution_count": 4,
   "metadata": {},
   "outputs": [],
   "source": [
    "def process_zenodo_url(url, verbose=False):\n",
    "    \"\"\"\n",
    "    Given a zenodo URL, calculate a 'code score' and report attributes\n",
    "    \n",
    "    A string, 'url', found in a paper, represented by 'doi', is processed\n",
    "    to establish if the URL resolves, and if it does check for attributes of\n",
    "    the repository that may be an indicator of code quality.\n",
    "    \"\"\"\n",
    "    url_dict = {'doi': doi,\n",
    "                'url': url,\n",
    "                'resourcetype': 'zenodo',\n",
    "                'timestamp': datetime.datetime.now().isoformat(),\n",
    "                'resolves': None,\n",
    "                'score': 0}\n",
    "\n",
    "    if not process_urls.is_url_valid(url):\n",
    "        url_dict['resolves'] = False\n",
    "        if verbose: print(\"URL {} did not resolve\".format(url))\n",
    "        return url_dict\n",
    "    url_dict['resolves'] = True\n",
    "    url_dict['score'] = url_dict['score'] + 1\n",
    "    return url_dict"
   ]
  },
  {
   "cell_type": "code",
   "execution_count": 5,
   "metadata": {},
   "outputs": [],
   "source": [
    "def process_papers_dict(dict_of_papers, verbose=False):\n",
    "    \"\"\"\n",
    "    For a list of papers (represented by dois) and URLs check each one\n",
    "    \n",
    "    \"\"\"\n",
    "    resources_list = []\n",
    "    papers_output_dict = {}\n",
    "\n",
    "    for paper_doi in dict_of_papers:\n",
    "        paper = dict_of_papers[paper_doi]\n",
    "        paper_score = 0\n",
    "        number_or_resources = 0\n",
    "        \n",
    "        if verbose: print(\"processing paper with doi {}\".format(paper_doi))\n",
    "        \n",
    "        if 'github' in paper:\n",
    "            for url in paper['github']:\n",
    "                url_dict = process_github_url(url, paper_doi, verbose=verbose)\n",
    "                resources_list.append(url_dict)\n",
    "                paper_score = paper_score + url_dict['score']\n",
    "                number_or_resources = number_or_resources + 1\n",
    "            \n",
    "        if 'zenodo' in paper:\n",
    "            for url in paper['zenodo']:\n",
    "                url_dict = process_github_url(url, paper_doi, verbose=verbose)\n",
    "                resources_list.append(url_dict)\n",
    "                paper_score = paper_score + url_dict['score']\n",
    "                number_or_resources = number_or_resources + 1\n",
    "            \n",
    "        papers_output_dict[paper_doi] = {'score': paper_score, \n",
    "                                         'timestamp': datetime.datetime.now().isoformat()}\n",
    "    \n",
    "            \n",
    "        if verbose: print(\"Paper with doi {} has score of {}\".format(paper_doi, \n",
    "                                                     paper_score / number_or_resources))\n",
    "            \n",
    "        return resources_list"
   ]
  },
  {
   "cell_type": "code",
   "execution_count": 6,
   "metadata": {},
   "outputs": [
    {
     "name": "stdout",
     "output_type": "stream",
     "text": [
      "processing paper with doi 10.1016/j.cageo.2012.05.031\n",
      "URL https://github.com/url_that_does_not_resolve.com did not resolve\n",
      "Paper with doi 10.1016/j.cageo.2012.05.031 has score of 0.6666666666666666\n"
     ]
    }
   ],
   "source": [
    "resources_list = process_papers_dict(dict_of_papers, verbose=True)\n",
    "\n"
   ]
  },
  {
   "cell_type": "code",
   "execution_count": 7,
   "metadata": {},
   "outputs": [
    {
     "name": "stdout",
     "output_type": "stream",
     "text": [
      "[{'doi': '10.1016/j.cageo.2012.05.031', 'timestamp': '2018-03-28T13:29:08.977184', 'url': 'https://github.com/andreww/MSAT', 'resourcetype': 'github', 'resolves': True, 'score': 1}, {'doi': '10.1016/j.cageo.2012.05.031', 'timestamp': '2018-03-28T13:29:10.028420', 'url': 'https://github.com/url_that_does_not_resolve.com', 'resourcetype': 'github', 'resolves': False, 'score': 0}, {'doi': '10.1016/j.cageo.2012.05.031', 'timestamp': '2018-03-28T13:29:10.473266', 'url': 'https://zenodo.org/record/1196821#.WrtnltPwYkg', 'resourcetype': 'github', 'resolves': True, 'score': 1}]\n"
     ]
    }
   ],
   "source": [
    "print(resources_list)"
   ]
  },
  {
   "cell_type": "markdown",
   "metadata": {},
   "source": [
    "## Analysis of the data\n",
    "\n",
    "We can store the data in a flat SQL database, but here we stuff it into a Pandas dataframe to allow some analysis."
   ]
  },
  {
   "cell_type": "code",
   "execution_count": 8,
   "metadata": {},
   "outputs": [],
   "source": [
    "url_df = pandas.DataFrame.from_dict(resources_list)"
   ]
  },
  {
   "cell_type": "code",
   "execution_count": 9,
   "metadata": {},
   "outputs": [
    {
     "data": {
      "text/html": [
       "<div>\n",
       "<table border=\"1\" class=\"dataframe\">\n",
       "  <thead>\n",
       "    <tr style=\"text-align: right;\">\n",
       "      <th></th>\n",
       "      <th>doi</th>\n",
       "      <th>resolves</th>\n",
       "      <th>resourcetype</th>\n",
       "      <th>score</th>\n",
       "      <th>timestamp</th>\n",
       "      <th>url</th>\n",
       "    </tr>\n",
       "  </thead>\n",
       "  <tbody>\n",
       "    <tr>\n",
       "      <th>0</th>\n",
       "      <td>10.1016/j.cageo.2012.05.031</td>\n",
       "      <td>True</td>\n",
       "      <td>github</td>\n",
       "      <td>1</td>\n",
       "      <td>2018-03-28T13:29:08.977184</td>\n",
       "      <td>https://github.com/andreww/MSAT</td>\n",
       "    </tr>\n",
       "    <tr>\n",
       "      <th>1</th>\n",
       "      <td>10.1016/j.cageo.2012.05.031</td>\n",
       "      <td>False</td>\n",
       "      <td>github</td>\n",
       "      <td>0</td>\n",
       "      <td>2018-03-28T13:29:10.028420</td>\n",
       "      <td>https://github.com/url_that_does_not_resolve.com</td>\n",
       "    </tr>\n",
       "    <tr>\n",
       "      <th>2</th>\n",
       "      <td>10.1016/j.cageo.2012.05.031</td>\n",
       "      <td>True</td>\n",
       "      <td>github</td>\n",
       "      <td>1</td>\n",
       "      <td>2018-03-28T13:29:10.473266</td>\n",
       "      <td>https://zenodo.org/record/1196821#.WrtnltPwYkg</td>\n",
       "    </tr>\n",
       "  </tbody>\n",
       "</table>\n",
       "</div>"
      ],
      "text/plain": [
       "                           doi resolves resourcetype  score  \\\n",
       "0  10.1016/j.cageo.2012.05.031     True       github      1   \n",
       "1  10.1016/j.cageo.2012.05.031    False       github      0   \n",
       "2  10.1016/j.cageo.2012.05.031     True       github      1   \n",
       "\n",
       "                    timestamp  \\\n",
       "0  2018-03-28T13:29:08.977184   \n",
       "1  2018-03-28T13:29:10.028420   \n",
       "2  2018-03-28T13:29:10.473266   \n",
       "\n",
       "                                                url  \n",
       "0                   https://github.com/andreww/MSAT  \n",
       "1  https://github.com/url_that_does_not_resolve.com  \n",
       "2    https://zenodo.org/record/1196821#.WrtnltPwYkg  "
      ]
     },
     "execution_count": 9,
     "metadata": {},
     "output_type": "execute_result"
    }
   ],
   "source": [
    "url_df"
   ]
  },
  {
   "cell_type": "code",
   "execution_count": null,
   "metadata": {},
   "outputs": [],
   "source": []
  }
 ],
 "metadata": {
  "kernelspec": {
   "display_name": "Python 3",
   "language": "python",
   "name": "python3"
  },
  "language_info": {
   "codemirror_mode": {
    "name": "ipython",
    "version": 3
   },
   "file_extension": ".py",
   "mimetype": "text/x-python",
   "name": "python",
   "nbconvert_exporter": "python",
   "pygments_lexer": "ipython3",
   "version": "3.4.5"
  }
 },
 "nbformat": 4,
 "nbformat_minor": 2
}
