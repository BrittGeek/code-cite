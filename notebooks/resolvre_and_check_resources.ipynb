{
 "cells": [
  {
   "cell_type": "markdown",
   "metadata": {},
   "source": [
    "# Notebook to process output from thecontentmine\n",
    "\n",
    "This notebook illustrates the basic process of processing each resource in each paper and allocates a score."
   ]
  },
  {
   "cell_type": "code",
   "execution_count": 1,
   "metadata": {},
   "outputs": [],
   "source": [
    "dict_of_papers = {'10.1016/j.cageo.2012.05.031': {'github': ['https://github.com/andreww/MSAT']}\n",
    "                 }"
   ]
  },
  {
   "cell_type": "code",
   "execution_count": 2,
   "metadata": {},
   "outputs": [],
   "source": [
    "def process_github_url(url):\n",
    "    result = 1.0\n",
    "    return result"
   ]
  },
  {
   "cell_type": "code",
   "execution_count": 3,
   "metadata": {},
   "outputs": [],
   "source": [
    "def process_zenodo_url(url):\n",
    "    result = 1.0\n",
    "    return result"
   ]
  },
  {
   "cell_type": "code",
   "execution_count": 4,
   "metadata": {},
   "outputs": [
    {
     "name": "stdout",
     "output_type": "stream",
     "text": [
      "Paper with doi 10.1016/j.cageo.2012.05.031 has score of 1.0\n"
     ]
    }
   ],
   "source": [
    "for paper_doi in dict_of_papers:\n",
    "    paper = dict_of_papers[paper_doi]\n",
    "    paper_score = 0\n",
    "    number_or_resources = 0\n",
    "    if 'github' in paper:\n",
    "        for url in paper['github']:\n",
    "            paper_score = paper_score + process_github_url(url)\n",
    "            number_or_resources = number_or_resources + 1\n",
    "    if 'zenodo' in paper:\n",
    "        for url in paper['zenodo']:\n",
    "            paper_score = paper_score + process_github_url(url)\n",
    "            number_or_resources = number_or_resources + 1\n",
    "            \n",
    "    print(\"Paper with doi {} has score of {}\".format(paper_doi, \n",
    "                                                     paper_score / number_or_resources))"
   ]
  }
 ],
 "metadata": {
  "kernelspec": {
   "display_name": "Python 3",
   "language": "python",
   "name": "python3"
  },
  "language_info": {
   "codemirror_mode": {
    "name": "ipython",
    "version": 3
   },
   "file_extension": ".py",
   "mimetype": "text/x-python",
   "name": "python",
   "nbconvert_exporter": "python",
   "pygments_lexer": "ipython3",
   "version": "3.4.5"
  }
 },
 "nbformat": 4,
 "nbformat_minor": 2
}
